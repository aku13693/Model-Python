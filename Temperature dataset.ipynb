{
 "cells": [
  {
   "cell_type": "code",
   "execution_count": 1,
   "metadata": {},
   "outputs": [],
   "source": [
    "import pandas as pd\n",
    "import numpy as np\n",
    "from statistics import *"
   ]
  },
  {
   "cell_type": "code",
   "execution_count": 2,
   "metadata": {},
   "outputs": [],
   "source": [
    "temperature_original = pd.read_csv(\"4.csv\")"
   ]
  },
  {
   "cell_type": "code",
   "execution_count": 3,
   "metadata": {},
   "outputs": [
    {
     "data": {
      "text/html": [
       "<div>\n",
       "<style scoped>\n",
       "    .dataframe tbody tr th:only-of-type {\n",
       "        vertical-align: middle;\n",
       "    }\n",
       "\n",
       "    .dataframe tbody tr th {\n",
       "        vertical-align: top;\n",
       "    }\n",
       "\n",
       "    .dataframe thead th {\n",
       "        text-align: right;\n",
       "    }\n",
       "</style>\n",
       "<table border=\"1\" class=\"dataframe\">\n",
       "  <thead>\n",
       "    <tr style=\"text-align: right;\">\n",
       "      <th></th>\n",
       "      <th>station</th>\n",
       "      <th>Present_Tmax</th>\n",
       "      <th>Present_Tmin</th>\n",
       "      <th>LDAPS_RHmin</th>\n",
       "      <th>LDAPS_RHmax</th>\n",
       "      <th>LDAPS_Tmax_lapse</th>\n",
       "      <th>LDAPS_Tmin_lapse</th>\n",
       "      <th>LDAPS_WS</th>\n",
       "      <th>LDAPS_LH</th>\n",
       "      <th>LDAPS_CC1</th>\n",
       "      <th>...</th>\n",
       "      <th>LDAPS_PPT2</th>\n",
       "      <th>LDAPS_PPT3</th>\n",
       "      <th>LDAPS_PPT4</th>\n",
       "      <th>lat</th>\n",
       "      <th>lon</th>\n",
       "      <th>DEM</th>\n",
       "      <th>Slope</th>\n",
       "      <th>Solar radiation</th>\n",
       "      <th>Next_Tmax</th>\n",
       "      <th>Next_Tmin</th>\n",
       "    </tr>\n",
       "  </thead>\n",
       "  <tbody>\n",
       "    <tr>\n",
       "      <th>count</th>\n",
       "      <td>7750.000000</td>\n",
       "      <td>7750.000000</td>\n",
       "      <td>7750.000000</td>\n",
       "      <td>7750.000000</td>\n",
       "      <td>7750.000000</td>\n",
       "      <td>7750.000000</td>\n",
       "      <td>7750.000000</td>\n",
       "      <td>7750.000000</td>\n",
       "      <td>7750.000000</td>\n",
       "      <td>7750.000000</td>\n",
       "      <td>...</td>\n",
       "      <td>7750.000000</td>\n",
       "      <td>7750.000000</td>\n",
       "      <td>7750.000000</td>\n",
       "      <td>7750.000000</td>\n",
       "      <td>7750.000000</td>\n",
       "      <td>7750.000000</td>\n",
       "      <td>7750.000000</td>\n",
       "      <td>7750.000000</td>\n",
       "      <td>7750.000000</td>\n",
       "      <td>7750.000000</td>\n",
       "    </tr>\n",
       "    <tr>\n",
       "      <th>mean</th>\n",
       "      <td>13.000000</td>\n",
       "      <td>29.680232</td>\n",
       "      <td>23.196606</td>\n",
       "      <td>56.403017</td>\n",
       "      <td>87.715411</td>\n",
       "      <td>29.520808</td>\n",
       "      <td>23.479000</td>\n",
       "      <td>7.221373</td>\n",
       "      <td>62.084028</td>\n",
       "      <td>0.558724</td>\n",
       "      <td>...</td>\n",
       "      <td>0.671193</td>\n",
       "      <td>0.467084</td>\n",
       "      <td>0.458269</td>\n",
       "      <td>37.544720</td>\n",
       "      <td>126.991400</td>\n",
       "      <td>61.854944</td>\n",
       "      <td>1.256692</td>\n",
       "      <td>5341.549330</td>\n",
       "      <td>30.239639</td>\n",
       "      <td>22.922619</td>\n",
       "    </tr>\n",
       "    <tr>\n",
       "      <th>std</th>\n",
       "      <td>7.211568</td>\n",
       "      <td>3.094748</td>\n",
       "      <td>2.417668</td>\n",
       "      <td>15.022533</td>\n",
       "      <td>9.793997</td>\n",
       "      <td>3.075903</td>\n",
       "      <td>2.356118</td>\n",
       "      <td>2.507929</td>\n",
       "      <td>33.773612</td>\n",
       "      <td>1.939613</td>\n",
       "      <td>...</td>\n",
       "      <td>2.582990</td>\n",
       "      <td>2.243802</td>\n",
       "      <td>2.266888</td>\n",
       "      <td>0.050335</td>\n",
       "      <td>0.079406</td>\n",
       "      <td>54.256953</td>\n",
       "      <td>1.369833</td>\n",
       "      <td>428.996445</td>\n",
       "      <td>3.176239</td>\n",
       "      <td>2.484868</td>\n",
       "    </tr>\n",
       "    <tr>\n",
       "      <th>min</th>\n",
       "      <td>1.000000</td>\n",
       "      <td>20.000000</td>\n",
       "      <td>11.300000</td>\n",
       "      <td>19.794666</td>\n",
       "      <td>20.000000</td>\n",
       "      <td>17.624954</td>\n",
       "      <td>14.272646</td>\n",
       "      <td>2.882580</td>\n",
       "      <td>-13.603212</td>\n",
       "      <td>0.000000</td>\n",
       "      <td>...</td>\n",
       "      <td>0.000000</td>\n",
       "      <td>0.000000</td>\n",
       "      <td>0.000000</td>\n",
       "      <td>37.456200</td>\n",
       "      <td>126.826000</td>\n",
       "      <td>12.370000</td>\n",
       "      <td>0.098500</td>\n",
       "      <td>4329.520508</td>\n",
       "      <td>17.400000</td>\n",
       "      <td>11.300000</td>\n",
       "    </tr>\n",
       "    <tr>\n",
       "      <th>25%</th>\n",
       "      <td>7.000000</td>\n",
       "      <td>27.700000</td>\n",
       "      <td>21.600000</td>\n",
       "      <td>45.735747</td>\n",
       "      <td>84.040119</td>\n",
       "      <td>27.601625</td>\n",
       "      <td>22.032778</td>\n",
       "      <td>5.686498</td>\n",
       "      <td>36.778658</td>\n",
       "      <td>0.148339</td>\n",
       "      <td>...</td>\n",
       "      <td>0.000000</td>\n",
       "      <td>0.000000</td>\n",
       "      <td>0.000000</td>\n",
       "      <td>37.510200</td>\n",
       "      <td>126.937000</td>\n",
       "      <td>28.700000</td>\n",
       "      <td>0.271300</td>\n",
       "      <td>4999.018555</td>\n",
       "      <td>28.200000</td>\n",
       "      <td>21.300000</td>\n",
       "    </tr>\n",
       "    <tr>\n",
       "      <th>50%</th>\n",
       "      <td>13.000000</td>\n",
       "      <td>29.900000</td>\n",
       "      <td>23.400000</td>\n",
       "      <td>54.828714</td>\n",
       "      <td>89.699505</td>\n",
       "      <td>29.662273</td>\n",
       "      <td>23.735942</td>\n",
       "      <td>6.563068</td>\n",
       "      <td>56.487289</td>\n",
       "      <td>0.320110</td>\n",
       "      <td>...</td>\n",
       "      <td>0.000000</td>\n",
       "      <td>0.000000</td>\n",
       "      <td>0.000000</td>\n",
       "      <td>37.550700</td>\n",
       "      <td>126.995000</td>\n",
       "      <td>45.716000</td>\n",
       "      <td>0.618000</td>\n",
       "      <td>5436.345215</td>\n",
       "      <td>30.500000</td>\n",
       "      <td>23.100000</td>\n",
       "    </tr>\n",
       "    <tr>\n",
       "      <th>75%</th>\n",
       "      <td>19.000000</td>\n",
       "      <td>32.000000</td>\n",
       "      <td>24.875000</td>\n",
       "      <td>67.032715</td>\n",
       "      <td>93.703491</td>\n",
       "      <td>31.682567</td>\n",
       "      <td>25.133460</td>\n",
       "      <td>8.092060</td>\n",
       "      <td>83.891182</td>\n",
       "      <td>0.584296</td>\n",
       "      <td>...</td>\n",
       "      <td>0.024224</td>\n",
       "      <td>0.009685</td>\n",
       "      <td>0.000686</td>\n",
       "      <td>37.577600</td>\n",
       "      <td>127.042000</td>\n",
       "      <td>59.832400</td>\n",
       "      <td>1.767800</td>\n",
       "      <td>5728.316406</td>\n",
       "      <td>32.600000</td>\n",
       "      <td>24.600000</td>\n",
       "    </tr>\n",
       "    <tr>\n",
       "      <th>max</th>\n",
       "      <td>25.000000</td>\n",
       "      <td>37.600000</td>\n",
       "      <td>29.900000</td>\n",
       "      <td>98.524734</td>\n",
       "      <td>100.000153</td>\n",
       "      <td>38.542255</td>\n",
       "      <td>29.619342</td>\n",
       "      <td>21.857621</td>\n",
       "      <td>213.414006</td>\n",
       "      <td>20.000000</td>\n",
       "      <td>...</td>\n",
       "      <td>21.621661</td>\n",
       "      <td>20.000000</td>\n",
       "      <td>20.000000</td>\n",
       "      <td>37.645000</td>\n",
       "      <td>127.135000</td>\n",
       "      <td>212.335000</td>\n",
       "      <td>5.178200</td>\n",
       "      <td>5992.895996</td>\n",
       "      <td>38.900000</td>\n",
       "      <td>29.800000</td>\n",
       "    </tr>\n",
       "  </tbody>\n",
       "</table>\n",
       "<p>8 rows × 24 columns</p>\n",
       "</div>"
      ],
      "text/plain": [
       "           station  Present_Tmax  Present_Tmin  LDAPS_RHmin  LDAPS_RHmax  \\\n",
       "count  7750.000000   7750.000000   7750.000000  7750.000000  7750.000000   \n",
       "mean     13.000000     29.680232     23.196606    56.403017    87.715411   \n",
       "std       7.211568      3.094748      2.417668    15.022533     9.793997   \n",
       "min       1.000000     20.000000     11.300000    19.794666    20.000000   \n",
       "25%       7.000000     27.700000     21.600000    45.735747    84.040119   \n",
       "50%      13.000000     29.900000     23.400000    54.828714    89.699505   \n",
       "75%      19.000000     32.000000     24.875000    67.032715    93.703491   \n",
       "max      25.000000     37.600000     29.900000    98.524734   100.000153   \n",
       "\n",
       "       LDAPS_Tmax_lapse  LDAPS_Tmin_lapse     LDAPS_WS     LDAPS_LH  \\\n",
       "count       7750.000000       7750.000000  7750.000000  7750.000000   \n",
       "mean          29.520808         23.479000     7.221373    62.084028   \n",
       "std            3.075903          2.356118     2.507929    33.773612   \n",
       "min           17.624954         14.272646     2.882580   -13.603212   \n",
       "25%           27.601625         22.032778     5.686498    36.778658   \n",
       "50%           29.662273         23.735942     6.563068    56.487289   \n",
       "75%           31.682567         25.133460     8.092060    83.891182   \n",
       "max           38.542255         29.619342    21.857621   213.414006   \n",
       "\n",
       "         LDAPS_CC1  ...   LDAPS_PPT2   LDAPS_PPT3   LDAPS_PPT4          lat  \\\n",
       "count  7750.000000  ...  7750.000000  7750.000000  7750.000000  7750.000000   \n",
       "mean      0.558724  ...     0.671193     0.467084     0.458269    37.544720   \n",
       "std       1.939613  ...     2.582990     2.243802     2.266888     0.050335   \n",
       "min       0.000000  ...     0.000000     0.000000     0.000000    37.456200   \n",
       "25%       0.148339  ...     0.000000     0.000000     0.000000    37.510200   \n",
       "50%       0.320110  ...     0.000000     0.000000     0.000000    37.550700   \n",
       "75%       0.584296  ...     0.024224     0.009685     0.000686    37.577600   \n",
       "max      20.000000  ...    21.621661    20.000000    20.000000    37.645000   \n",
       "\n",
       "               lon          DEM        Slope  Solar radiation    Next_Tmax  \\\n",
       "count  7750.000000  7750.000000  7750.000000      7750.000000  7750.000000   \n",
       "mean    126.991400    61.854944     1.256692      5341.549330    30.239639   \n",
       "std       0.079406    54.256953     1.369833       428.996445     3.176239   \n",
       "min     126.826000    12.370000     0.098500      4329.520508    17.400000   \n",
       "25%     126.937000    28.700000     0.271300      4999.018555    28.200000   \n",
       "50%     126.995000    45.716000     0.618000      5436.345215    30.500000   \n",
       "75%     127.042000    59.832400     1.767800      5728.316406    32.600000   \n",
       "max     127.135000   212.335000     5.178200      5992.895996    38.900000   \n",
       "\n",
       "         Next_Tmin  \n",
       "count  7750.000000  \n",
       "mean     22.922619  \n",
       "std       2.484868  \n",
       "min      11.300000  \n",
       "25%      21.300000  \n",
       "50%      23.100000  \n",
       "75%      24.600000  \n",
       "max      29.800000  \n",
       "\n",
       "[8 rows x 24 columns]"
      ]
     },
     "execution_count": 3,
     "metadata": {},
     "output_type": "execute_result"
    }
   ],
   "source": [
    "temperature_original1 = temperature_original\n",
    "temperature_original=temperature_original.drop(['Date'],axis=1)\n",
    "temperature_original.describe()"
   ]
  },
  {
   "cell_type": "code",
   "execution_count": 4,
   "metadata": {},
   "outputs": [],
   "source": [
    "#temperature_original = temperature_original.drop(['Date'],axis=1)\n",
    "#temperature_original.info()\n",
    "#temp_train_features = temperature_original.drop(['Next_Tmax','Next_Tmin'],axis=1)\n",
    "#temp_train_labels = temperature_original[['Next_Tmax','Next_Tmin']].copy()"
   ]
  },
  {
   "cell_type": "code",
   "execution_count": 5,
   "metadata": {},
   "outputs": [],
   "source": [
    "from sklearn.pipeline import Pipeline\n",
    "from sklearn.preprocessing import StandardScaler\n",
    "from sklearn.impute import SimpleImputer"
   ]
  },
  {
   "cell_type": "code",
   "execution_count": 6,
   "metadata": {},
   "outputs": [],
   "source": [
    "my_pipeline  =Pipeline ([\n",
    "    \n",
    "    (\"imputer\", SimpleImputer(strategy=\"median\")),\n",
    "    (\"std_scale\",StandardScaler())\n",
    "])"
   ]
  },
  {
   "cell_type": "code",
   "execution_count": 7,
   "metadata": {},
   "outputs": [],
   "source": [
    "temp_transform = my_pipeline.fit_transform(temperature_original)\n",
    "#temp_label_transform = my_pipeline.fit_transform(temp_train_labels)\n",
    "#temp_train_features.shape"
   ]
  },
  {
   "cell_type": "code",
   "execution_count": 8,
   "metadata": {},
   "outputs": [],
   "source": [
    "from sklearn.model_selection import StratifiedShuffleSplit\n",
    "split1 = StratifiedShuffleSplit(n_splits=1, test_size=0.2, random_state=42)\n",
    "for train_index, test_index in split1.split(temperature_original, temperature_original['station']):\n",
    "        strat_train_set = temperature_original.loc[train_index]\n",
    "        strat_test_set = temperature_original.loc[test_index]"
   ]
  },
  {
   "cell_type": "code",
   "execution_count": 9,
   "metadata": {},
   "outputs": [],
   "source": [
    "temp_train_features = strat_train_set.drop(['Next_Tmax','Next_Tmin'],axis=1)\n",
    "temp_train_labels = strat_train_set[['Next_Tmax']].copy()"
   ]
  },
  {
   "cell_type": "code",
   "execution_count": 10,
   "metadata": {},
   "outputs": [],
   "source": [
    "#strat_train_set.info()"
   ]
  },
  {
   "cell_type": "code",
   "execution_count": 11,
   "metadata": {},
   "outputs": [],
   "source": [
    "#from sklearn.linear_model import LinearRegression\n",
    "from sklearn.ensemble import RandomForestRegressor"
   ]
  },
  {
   "cell_type": "code",
   "execution_count": 12,
   "metadata": {},
   "outputs": [],
   "source": [
    "#model = LinearRegression()\n",
    "model = RandomForestRegressor()\n",
    "temp_train_labels['Next_Tmax'].fillna(median)\n",
    "temp_transform1 = my_pipeline.fit_transform(temp_train_features)"
   ]
  },
  {
   "cell_type": "code",
   "execution_count": 17,
   "metadata": {},
   "outputs": [
    {
     "name": "stderr",
     "output_type": "stream",
     "text": [
      "<ipython-input-17-03baae101eca>:1: DataConversionWarning: A column-vector y was passed when a 1d array was expected. Please change the shape of y to (n_samples,), for example using ravel().\n",
      "  model.fit(temp_transform1,temp_train_labels)\n"
     ]
    },
    {
     "data": {
      "text/plain": [
       "RandomForestRegressor(bootstrap=True, ccp_alpha=0.0, criterion='mse',\n",
       "                      max_depth=None, max_features='auto', max_leaf_nodes=None,\n",
       "                      max_samples=None, min_impurity_decrease=0.0,\n",
       "                      min_impurity_split=None, min_samples_leaf=1,\n",
       "                      min_samples_split=2, min_weight_fraction_leaf=0.0,\n",
       "                      n_estimators=100, n_jobs=None, oob_score=False,\n",
       "                      random_state=None, verbose=0, warm_start=False)"
      ]
     },
     "execution_count": 17,
     "metadata": {},
     "output_type": "execute_result"
    }
   ],
   "source": [
    "model.fit(temp_transform1,temp_train_labels)"
   ]
  },
  {
   "cell_type": "code",
   "execution_count": 18,
   "metadata": {},
   "outputs": [],
   "source": [
    "from sklearn.metrics import mean_squared_error"
   ]
  },
  {
   "cell_type": "code",
   "execution_count": 19,
   "metadata": {},
   "outputs": [
    {
     "data": {
      "text/plain": [
       "array([[-0.83205029, -0.1626324 , -0.48568894, ..., -0.91210682,\n",
       "        -0.8455532 ,  0.91648482],\n",
       "       [ 1.38675049,  1.16559752,  2.34368263, ..., -0.8528    ,\n",
       "        -0.80401261, -0.19323674],\n",
       "       [-0.5547002 , -0.35700751, -0.03462971, ..., -0.20134652,\n",
       "        -0.6163134 ,  0.85259402],\n",
       "       ...,\n",
       "       [ 1.66410059, -0.94013285,  0.82648338, ..., -0.77913095,\n",
       "        -0.71939831,  1.01387147],\n",
       "       [ 0.69337525, -0.03304899,  0.78547799, ..., -0.09971981,\n",
       "        -0.01853776, -1.55808111],\n",
       "       [ 0.97072534,  0.61486804,  0.66246184, ...,  1.56117357,\n",
       "         2.53544186,  0.5350219 ]])"
      ]
     },
     "execution_count": 19,
     "metadata": {},
     "output_type": "execute_result"
    }
   ],
   "source": [
    "temp_transform1"
   ]
  },
  {
   "cell_type": "code",
   "execution_count": 20,
   "metadata": {},
   "outputs": [],
   "source": [
    "temp_predict = model.predict(temp_transform1)"
   ]
  },
  {
   "cell_type": "code",
   "execution_count": 21,
   "metadata": {},
   "outputs": [
    {
     "data": {
      "text/plain": [
       "array([29.396, 35.101, 30.57 , ..., 26.226, 32.117, 29.281])"
      ]
     },
     "execution_count": 21,
     "metadata": {},
     "output_type": "execute_result"
    }
   ],
   "source": [
    "temp_predict"
   ]
  },
  {
   "cell_type": "code",
   "execution_count": 22,
   "metadata": {},
   "outputs": [
    {
     "data": {
      "text/plain": [
       "(6200, 22)"
      ]
     },
     "execution_count": 22,
     "metadata": {},
     "output_type": "execute_result"
    }
   ],
   "source": [
    "  temp_transform1.shape"
   ]
  },
  {
   "cell_type": "code",
   "execution_count": 23,
   "metadata": {},
   "outputs": [],
   "source": [
    "mse = mean_squared_error(temp_predict,temp_train_labels)"
   ]
  },
  {
   "cell_type": "code",
   "execution_count": 24,
   "metadata": {},
   "outputs": [
    {
     "data": {
      "text/plain": [
       "0.18875365354838716"
      ]
     },
     "execution_count": 24,
     "metadata": {},
     "output_type": "execute_result"
    }
   ],
   "source": [
    "mse"
   ]
  },
  {
   "cell_type": "code",
   "execution_count": 25,
   "metadata": {},
   "outputs": [
    {
     "data": {
      "text/plain": [
       "0.4344578846659215"
      ]
     },
     "execution_count": 25,
     "metadata": {},
     "output_type": "execute_result"
    }
   ],
   "source": [
    "rmse = np.sqrt(mse)\n",
    "rmse"
   ]
  },
  {
   "cell_type": "code",
   "execution_count": 26,
   "metadata": {},
   "outputs": [
    {
     "data": {
      "text/plain": [
       "0"
      ]
     },
     "execution_count": 26,
     "metadata": {},
     "output_type": "execute_result"
    }
   ],
   "source": [
    "0"
   ]
  },
  {
   "cell_type": "code",
   "execution_count": 35,
   "metadata": {},
   "outputs": [],
   "source": [
    "some_data = temp_train_features.iloc[:2]"
   ]
  },
  {
   "cell_type": "code",
   "execution_count": 36,
   "metadata": {},
   "outputs": [],
   "source": [
    "some_labels = temp_train_labels.iloc[:2]"
   ]
  },
  {
   "cell_type": "code",
   "execution_count": 37,
   "metadata": {},
   "outputs": [
    {
     "data": {
      "text/plain": [
       "array([34.776, 34.776])"
      ]
     },
     "execution_count": 37,
     "metadata": {},
     "output_type": "execute_result"
    }
   ],
   "source": [
    "x = model.predict(some_data)\n",
    "x"
   ]
  },
  {
   "cell_type": "code",
   "execution_count": 38,
   "metadata": {},
   "outputs": [
    {
     "data": {
      "text/html": [
       "<div>\n",
       "<style scoped>\n",
       "    .dataframe tbody tr th:only-of-type {\n",
       "        vertical-align: middle;\n",
       "    }\n",
       "\n",
       "    .dataframe tbody tr th {\n",
       "        vertical-align: top;\n",
       "    }\n",
       "\n",
       "    .dataframe thead th {\n",
       "        text-align: right;\n",
       "    }\n",
       "</style>\n",
       "<table border=\"1\" class=\"dataframe\">\n",
       "  <thead>\n",
       "    <tr style=\"text-align: right;\">\n",
       "      <th></th>\n",
       "      <th>Next_Tmax</th>\n",
       "    </tr>\n",
       "  </thead>\n",
       "  <tbody>\n",
       "    <tr>\n",
       "      <th>4956</th>\n",
       "      <td>29.8</td>\n",
       "    </tr>\n",
       "    <tr>\n",
       "      <th>7147</th>\n",
       "      <td>35.3</td>\n",
       "    </tr>\n",
       "  </tbody>\n",
       "</table>\n",
       "</div>"
      ],
      "text/plain": [
       "      Next_Tmax\n",
       "4956       29.8\n",
       "7147       35.3"
      ]
     },
     "execution_count": 38,
     "metadata": {},
     "output_type": "execute_result"
    }
   ],
   "source": [
    "some_labels"
   ]
  },
  {
   "cell_type": "code",
   "execution_count": 39,
   "metadata": {},
   "outputs": [],
   "source": [
    "mse1 = mean_squared_error(x,some_labels)"
   ]
  },
  {
   "cell_type": "code",
   "execution_count": 40,
   "metadata": {},
   "outputs": [
    {
     "data": {
      "text/plain": [
       "12.517576000000105"
      ]
     },
     "execution_count": 40,
     "metadata": {},
     "output_type": "execute_result"
    }
   ],
   "source": [
    "mse1"
   ]
  },
  {
   "cell_type": "code",
   "execution_count": 41,
   "metadata": {},
   "outputs": [],
   "source": [
    "rmse = np.sqrt(mse1)"
   ]
  },
  {
   "cell_type": "code",
   "execution_count": 42,
   "metadata": {},
   "outputs": [
    {
     "data": {
      "text/plain": [
       "3.538018654557958"
      ]
     },
     "execution_count": 42,
     "metadata": {},
     "output_type": "execute_result"
    }
   ],
   "source": [
    "rmse"
   ]
  },
  {
   "cell_type": "code",
   "execution_count": null,
   "metadata": {},
   "outputs": [],
   "source": []
  },
  {
   "cell_type": "code",
   "execution_count": null,
   "metadata": {},
   "outputs": [],
   "source": []
  }
 ],
 "metadata": {
  "kernelspec": {
   "display_name": "Python 3",
   "language": "python",
   "name": "python3"
  },
  "language_info": {
   "codemirror_mode": {
    "name": "ipython",
    "version": 3
   },
   "file_extension": ".py",
   "mimetype": "text/x-python",
   "name": "python",
   "nbconvert_exporter": "python",
   "pygments_lexer": "ipython3",
   "version": "3.8.2"
  }
 },
 "nbformat": 4,
 "nbformat_minor": 4
}
